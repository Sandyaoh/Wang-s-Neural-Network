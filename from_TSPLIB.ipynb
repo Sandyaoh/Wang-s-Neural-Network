{
 "cells": [
  {
   "cell_type": "code",
   "execution_count": 16,
   "metadata": {},
   "outputs": [
    {
     "name": "stdout",
     "output_type": "stream",
     "text": [
      "Collecting numpy\n",
      "\u001b[33m  Cache entry deserialization failed, entry ignored\u001b[0m\n",
      "  Downloading https://files.pythonhosted.org/packages/87/2d/e4656149cbadd3a8a0369fcd1a9c7d61cc7b87b3903b85389c70c989a696/numpy-1.16.4-cp36-cp36m-manylinux1_x86_64.whl (17.3MB)\n",
      "\u001b[K    100% |████████████████████████████████| 17.3MB 48kB/s eta 0:00:011\n",
      "\u001b[?25hInstalling collected packages: numpy\n",
      "Successfully installed numpy-1.16.4\n",
      "Collecting glob\n",
      "\u001b[31mException:\n",
      "Traceback (most recent call last):\n",
      "  File \"/usr/lib/python3/dist-packages/pip/basecommand.py\", line 215, in main\n",
      "    status = self.run(options, args)\n",
      "  File \"/usr/lib/python3/dist-packages/pip/commands/install.py\", line 353, in run\n",
      "    wb.build(autobuilding=True)\n",
      "  File \"/usr/lib/python3/dist-packages/pip/wheel.py\", line 749, in build\n",
      "    self.requirement_set.prepare_files(self.finder)\n",
      "  File \"/usr/lib/python3/dist-packages/pip/req/req_set.py\", line 380, in prepare_files\n",
      "    ignore_dependencies=self.ignore_dependencies))\n",
      "  File \"/usr/lib/python3/dist-packages/pip/req/req_set.py\", line 554, in _prepare_file\n",
      "    require_hashes\n",
      "  File \"/usr/lib/python3/dist-packages/pip/req/req_install.py\", line 278, in populate_link\n",
      "    self.link = finder.find_requirement(self, upgrade)\n",
      "  File \"/usr/lib/python3/dist-packages/pip/index.py\", line 465, in find_requirement\n",
      "    all_candidates = self.find_all_candidates(req.name)\n",
      "  File \"/usr/lib/python3/dist-packages/pip/index.py\", line 423, in find_all_candidates\n",
      "    for page in self._get_pages(url_locations, project_name):\n",
      "  File \"/usr/lib/python3/dist-packages/pip/index.py\", line 568, in _get_pages\n",
      "    page = self._get_page(location)\n",
      "  File \"/usr/lib/python3/dist-packages/pip/index.py\", line 683, in _get_page\n",
      "    return HTMLPage.get_page(link, session=self.session)\n",
      "  File \"/usr/lib/python3/dist-packages/pip/index.py\", line 795, in get_page\n",
      "    resp.raise_for_status()\n",
      "  File \"/usr/share/python-wheels/requests-2.18.4-py2.py3-none-any.whl/requests/models.py\", line 935, in raise_for_status\n",
      "    raise HTTPError(http_error_msg, response=self)\n",
      "requests.exceptions.HTTPError: 404 Client Error: Not Found for url: https://pypi.org/simple/glob/\u001b[0m\n"
     ]
    }
   ],
   "source": [
    "!python3 -m pip install numpy"
   ]
  },
  {
   "cell_type": "code",
   "execution_count": 1,
   "metadata": {},
   "outputs": [],
   "source": [
    "import tsplib95\n",
    "import numpy as np\n",
    "import glob\n",
    "import os"
   ]
  },
  {
   "cell_type": "markdown",
   "metadata": {},
   "source": [
    "EXAMPLE"
   ]
  },
  {
   "cell_type": "code",
   "execution_count": 3,
   "metadata": {},
   "outputs": [],
   "source": [
    "problem=tsplib95.load_problem('bayg29.tsp')\n",
    "solution = tsplib95.load_solution('ulysses16.opt.tour')"
   ]
  },
  {
   "cell_type": "code",
   "execution_count": 4,
   "metadata": {},
   "outputs": [
    {
     "name": "stdout",
     "output_type": "stream",
     "text": [
      "227\n",
      "227\n"
     ]
    }
   ],
   "source": [
    "print(problem.wfunc(1,11))\n",
    "print(problem.wfunc(11,1))"
   ]
  },
  {
   "cell_type": "code",
   "execution_count": 7,
   "metadata": {},
   "outputs": [
    {
     "data": {
      "text/plain": [
       "[[1, 14, 13, 12, 7, 6, 15, 5, 11, 9, 10, 16, 3, 2, 4, 8]]"
      ]
     },
     "execution_count": 7,
     "metadata": {},
     "output_type": "execute_result"
    }
   ],
   "source": [
    "solution.tours"
   ]
  },
  {
   "cell_type": "code",
   "execution_count": 43,
   "metadata": {},
   "outputs": [
    {
     "data": {
      "text/plain": [
       "58"
      ]
     },
     "execution_count": 43,
     "metadata": {},
     "output_type": "execute_result"
    }
   ],
   "source": [
    "problem.dimension"
   ]
  },
  {
   "cell_type": "code",
   "execution_count": 24,
   "metadata": {},
   "outputs": [
    {
     "data": {
      "text/plain": [
       "(2,)"
      ]
     },
     "execution_count": 24,
     "metadata": {},
     "output_type": "execute_result"
    }
   ],
   "source": [
    "np.array(problem.get_display(29)).shape"
   ]
  },
  {
   "cell_type": "code",
   "execution_count": 31,
   "metadata": {},
   "outputs": [],
   "source": [
    "n=problem.dimension\n",
    "M=np.zeros((n,n))\n",
    "coord=np.zeros((0,2))\n",
    "for i in range(1,n+1):\n",
    "    point=np.reshape(np.array(problem.get_display(i)),(1,2))\n",
    "    coord=np.concatenate((coord,point),axis=0)\n",
    "    for j in range(1,n+1):\n",
    "        #print('({},{})'.format(i,j))\n",
    "        M[i-1,j-1]=problem.wfunc(i,j)"
   ]
  },
  {
   "cell_type": "code",
   "execution_count": 33,
   "metadata": {},
   "outputs": [
    {
     "name": "stdout",
     "output_type": "stream",
     "text": [
      "[[1150. 1760.]\n",
      " [ 630. 1660.]\n",
      " [  40. 2090.]\n",
      " [ 750. 1100.]\n",
      " [ 750. 2030.]\n",
      " [1030. 2070.]\n",
      " [1650.  650.]\n",
      " [1490. 1630.]\n",
      " [ 790. 2260.]\n",
      " [ 710. 1310.]\n",
      " [ 840.  550.]\n",
      " [1170. 2300.]\n",
      " [ 970. 1340.]\n",
      " [ 510.  700.]\n",
      " [ 750.  900.]\n",
      " [1280. 1200.]\n",
      " [ 230.  590.]\n",
      " [ 460.  860.]\n",
      " [1040.  950.]\n",
      " [ 590. 1390.]\n",
      " [ 830. 1770.]\n",
      " [ 490.  500.]\n",
      " [1840. 1240.]\n",
      " [1260. 1500.]\n",
      " [1280.  790.]\n",
      " [ 490. 2130.]\n",
      " [1460. 1420.]\n",
      " [1260. 1910.]\n",
      " [ 360. 1980.]]\n"
     ]
    }
   ],
   "source": [
    "print (coord)"
   ]
  },
  {
   "cell_type": "code",
   "execution_count": 8,
   "metadata": {},
   "outputs": [
    {
     "ename": "IndexError",
     "evalue": "(26, 1) is out of bonuds",
     "output_type": "error",
     "traceback": [
      "\u001b[0;31m--------------------------------------------------------------------------\u001b[0m",
      "\u001b[0;31mIndexError\u001b[0m                               Traceback (most recent call last)",
      "\u001b[0;32m<ipython-input-8-301ff83afc63>\u001b[0m in \u001b[0;36m<module>\u001b[0;34m\u001b[0m\n\u001b[0;32m----> 1\u001b[0;31m \u001b[0mproblem\u001b[0m\u001b[0;34m.\u001b[0m\u001b[0mwfunc\u001b[0m\u001b[0;34m(\u001b[0m\u001b[0;36m1\u001b[0m\u001b[0;34m,\u001b[0m\u001b[0;36m26\u001b[0m\u001b[0;34m)\u001b[0m\u001b[0;34m\u001b[0m\u001b[0;34m\u001b[0m\u001b[0m\n\u001b[0m",
      "\u001b[0;32m~/.local/lib/python3.6/site-packages/tsplib95/models.py\u001b[0m in \u001b[0;36m<lambda>\u001b[0;34m(i, j)\u001b[0m\n\u001b[1;32m    188\u001b[0m         \u001b[0;32mif\u001b[0m \u001b[0mself\u001b[0m\u001b[0;34m.\u001b[0m\u001b[0mis_explicit\u001b[0m\u001b[0;34m(\u001b[0m\u001b[0;34m)\u001b[0m\u001b[0;34m:\u001b[0m\u001b[0;34m\u001b[0m\u001b[0;34m\u001b[0m\u001b[0m\n\u001b[1;32m    189\u001b[0m             \u001b[0mmatrix\u001b[0m \u001b[0;34m=\u001b[0m \u001b[0mself\u001b[0m\u001b[0;34m.\u001b[0m\u001b[0m_create_explicit_matrix\u001b[0m\u001b[0;34m(\u001b[0m\u001b[0;34m)\u001b[0m\u001b[0;34m\u001b[0m\u001b[0;34m\u001b[0m\u001b[0m\n\u001b[0;32m--> 190\u001b[0;31m             \u001b[0;32mreturn\u001b[0m \u001b[0;32mlambda\u001b[0m \u001b[0mi\u001b[0m\u001b[0;34m,\u001b[0m \u001b[0mj\u001b[0m\u001b[0;34m:\u001b[0m \u001b[0mmatrix\u001b[0m\u001b[0;34m[\u001b[0m\u001b[0mi\u001b[0m\u001b[0;34m,\u001b[0m \u001b[0mj\u001b[0m\u001b[0;34m]\u001b[0m\u001b[0;34m\u001b[0m\u001b[0;34m\u001b[0m\u001b[0m\n\u001b[0m\u001b[1;32m    191\u001b[0m         \u001b[0;32melse\u001b[0m\u001b[0;34m:\u001b[0m\u001b[0;34m\u001b[0m\u001b[0;34m\u001b[0m\u001b[0m\n\u001b[1;32m    192\u001b[0m             \u001b[0;32mreturn\u001b[0m \u001b[0mself\u001b[0m\u001b[0;34m.\u001b[0m\u001b[0m_create_distance_function\u001b[0m\u001b[0;34m(\u001b[0m\u001b[0mspecial\u001b[0m\u001b[0;34m=\u001b[0m\u001b[0mspecial\u001b[0m\u001b[0;34m)\u001b[0m\u001b[0;34m\u001b[0m\u001b[0;34m\u001b[0m\u001b[0m\n",
      "\u001b[0;32m~/.local/lib/python3.6/site-packages/tsplib95/matrix.py\u001b[0m in \u001b[0;36m__getitem__\u001b[0;34m(self, key)\u001b[0m\n\u001b[1;32m     20\u001b[0m \u001b[0;34m\u001b[0m\u001b[0m\n\u001b[1;32m     21\u001b[0m     \u001b[0;32mdef\u001b[0m \u001b[0m__getitem__\u001b[0m\u001b[0;34m(\u001b[0m\u001b[0mself\u001b[0m\u001b[0;34m,\u001b[0m \u001b[0mkey\u001b[0m\u001b[0;34m)\u001b[0m\u001b[0;34m:\u001b[0m\u001b[0;34m\u001b[0m\u001b[0;34m\u001b[0m\u001b[0m\n\u001b[0;32m---> 22\u001b[0;31m         \u001b[0;32mreturn\u001b[0m \u001b[0mself\u001b[0m\u001b[0;34m.\u001b[0m\u001b[0mvalue_at\u001b[0m\u001b[0;34m(\u001b[0m\u001b[0;34m*\u001b[0m\u001b[0mkey\u001b[0m\u001b[0;34m)\u001b[0m\u001b[0;34m\u001b[0m\u001b[0;34m\u001b[0m\u001b[0m\n\u001b[0m\u001b[1;32m     23\u001b[0m \u001b[0;34m\u001b[0m\u001b[0m\n\u001b[1;32m     24\u001b[0m     \u001b[0;32mdef\u001b[0m \u001b[0mvalue_at\u001b[0m\u001b[0;34m(\u001b[0m\u001b[0mself\u001b[0m\u001b[0;34m,\u001b[0m \u001b[0mi\u001b[0m\u001b[0;34m,\u001b[0m \u001b[0mj\u001b[0m\u001b[0;34m)\u001b[0m\u001b[0;34m:\u001b[0m\u001b[0;34m\u001b[0m\u001b[0;34m\u001b[0m\u001b[0m\n",
      "\u001b[0;32m~/.local/lib/python3.6/site-packages/tsplib95/matrix.py\u001b[0m in \u001b[0;36mvalue_at\u001b[0;34m(self, i, j)\u001b[0m\n\u001b[1;32m     84\u001b[0m             \u001b[0;32mreturn\u001b[0m \u001b[0;36m0\u001b[0m\u001b[0;34m\u001b[0m\u001b[0;34m\u001b[0m\u001b[0m\n\u001b[1;32m     85\u001b[0m         \u001b[0mi\u001b[0m\u001b[0;34m,\u001b[0m \u001b[0mj\u001b[0m \u001b[0;34m=\u001b[0m \u001b[0mself\u001b[0m\u001b[0;34m.\u001b[0m\u001b[0m_fix_indices\u001b[0m\u001b[0;34m(\u001b[0m\u001b[0mi\u001b[0m\u001b[0;34m,\u001b[0m \u001b[0mj\u001b[0m\u001b[0;34m)\u001b[0m\u001b[0;34m\u001b[0m\u001b[0;34m\u001b[0m\u001b[0m\n\u001b[0;32m---> 86\u001b[0;31m         \u001b[0;32mreturn\u001b[0m \u001b[0msuper\u001b[0m\u001b[0;34m(\u001b[0m\u001b[0;34m)\u001b[0m\u001b[0;34m.\u001b[0m\u001b[0mvalue_at\u001b[0m\u001b[0;34m(\u001b[0m\u001b[0mi\u001b[0m\u001b[0;34m,\u001b[0m \u001b[0mj\u001b[0m\u001b[0;34m)\u001b[0m\u001b[0;34m\u001b[0m\u001b[0;34m\u001b[0m\u001b[0m\n\u001b[0m\u001b[1;32m     87\u001b[0m \u001b[0;34m\u001b[0m\u001b[0m\n\u001b[1;32m     88\u001b[0m \u001b[0;34m\u001b[0m\u001b[0m\n",
      "\u001b[0;32m~/.local/lib/python3.6/site-packages/tsplib95/matrix.py\u001b[0m in \u001b[0;36mvalue_at\u001b[0;34m(self, i, j)\u001b[0m\n\u001b[1;32m     32\u001b[0m         \u001b[0mj\u001b[0m \u001b[0;34m-=\u001b[0m \u001b[0mself\u001b[0m\u001b[0;34m.\u001b[0m\u001b[0mmin_index\u001b[0m\u001b[0;34m\u001b[0m\u001b[0;34m\u001b[0m\u001b[0m\n\u001b[1;32m     33\u001b[0m         \u001b[0;32mif\u001b[0m \u001b[0;32mnot\u001b[0m \u001b[0mself\u001b[0m\u001b[0;34m.\u001b[0m\u001b[0mis_valid_row_column\u001b[0m\u001b[0;34m(\u001b[0m\u001b[0mi\u001b[0m\u001b[0;34m,\u001b[0m \u001b[0mj\u001b[0m\u001b[0;34m)\u001b[0m\u001b[0;34m:\u001b[0m\u001b[0;34m\u001b[0m\u001b[0;34m\u001b[0m\u001b[0m\n\u001b[0;32m---> 34\u001b[0;31m             \u001b[0;32mraise\u001b[0m \u001b[0mIndexError\u001b[0m\u001b[0;34m(\u001b[0m\u001b[0;34mf'({i}, {j}) is out of bonuds'\u001b[0m\u001b[0;34m)\u001b[0m\u001b[0;34m\u001b[0m\u001b[0;34m\u001b[0m\u001b[0m\n\u001b[0m\u001b[1;32m     35\u001b[0m         \u001b[0mindex\u001b[0m \u001b[0;34m=\u001b[0m \u001b[0mself\u001b[0m\u001b[0;34m.\u001b[0m\u001b[0mget_index\u001b[0m\u001b[0;34m(\u001b[0m\u001b[0mi\u001b[0m\u001b[0;34m,\u001b[0m \u001b[0mj\u001b[0m\u001b[0;34m)\u001b[0m\u001b[0;34m\u001b[0m\u001b[0;34m\u001b[0m\u001b[0m\n\u001b[1;32m     36\u001b[0m         \u001b[0;32mreturn\u001b[0m \u001b[0mself\u001b[0m\u001b[0;34m.\u001b[0m\u001b[0mnumbers\u001b[0m\u001b[0;34m[\u001b[0m\u001b[0mindex\u001b[0m\u001b[0;34m]\u001b[0m\u001b[0;34m\u001b[0m\u001b[0;34m\u001b[0m\u001b[0m\n",
      "\u001b[0;31mIndexError\u001b[0m: (26, 1) is out of bonuds"
     ]
    }
   ],
   "source": [
    "problem.wfunc(1,26)"
   ]
  },
  {
   "cell_type": "code",
   "execution_count": 30,
   "metadata": {},
   "outputs": [
    {
     "data": {
      "text/plain": [
       "array([[ 0.,  6.,  5.,  3., 11.,  8.,  7.,  1.],\n",
       "       [ 6.,  0.,  1.,  4., 17., 14., 13.,  6.],\n",
       "       [ 5.,  1.,  0.,  5., 16., 13., 12.,  6.],\n",
       "       [ 3.,  4.,  5.,  0., 13., 11., 10.,  3.],\n",
       "       [11., 17., 16., 13.,  0.,  4.,  6., 11.],\n",
       "       [ 8., 14., 13., 11.,  4.,  0.,  1.,  8.],\n",
       "       [ 7., 13., 12., 10.,  6.,  1.,  0.,  7.],\n",
       "       [ 1.,  6.,  6.,  3., 11.,  8.,  7.,  0.]])"
      ]
     },
     "execution_count": 30,
     "metadata": {},
     "output_type": "execute_result"
    }
   ],
   "source": [
    "M[:8,:8]"
   ]
  },
  {
   "cell_type": "code",
   "execution_count": 37,
   "metadata": {},
   "outputs": [
    {
     "name": "stdout",
     "output_type": "stream",
     "text": [
      "[[1, 14, 13, 12, 7, 6, 15, 5, 11, 9, 10, 16, 3, 2, 4, 8]]\n"
     ]
    }
   ],
   "source": [
    "paths=solution.tours\n",
    "print(paths)"
   ]
  },
  {
   "cell_type": "code",
   "execution_count": 34,
   "metadata": {},
   "outputs": [
    {
     "name": "stdout",
     "output_type": "stream",
     "text": [
      "eil76.tsp\n",
      "pr76.tsp\n",
      "lin105.tsp\n",
      "pr107.tsp\n",
      "bier127.tsp\n",
      "ulysses16.tsp\n",
      "eil51.tsp\n",
      "brazil58.tsp\n",
      "burma14.tsp\n",
      "gr96.tsp\n",
      "rd100.tsp\n",
      "bayg29.tsp\n",
      "pr136.tsp\n",
      "rat99.tsp\n",
      "gr48.tsp\n",
      "st70.tsp\n",
      "hk48.tsp\n",
      "kroA100.tsp\n",
      "gr17.tsp\n",
      "ch130.tsp\n",
      "kroD100.tsp\n",
      "pr124.tsp\n",
      "gr21.tsp\n",
      "gr24.tsp\n",
      "ulysses22.tsp\n",
      "att48.tsp\n",
      "eil101.tsp\n",
      "dantzig42.tsp\n",
      "berlin52.tsp\n",
      "fri26.tsp\n",
      "swiss42.tsp\n",
      "kroB100.tsp\n",
      "kroC100.tsp\n",
      "bays29.tsp\n",
      "pr144.tsp\n",
      "kroE100.tsp\n",
      "gr137.tsp\n",
      "gr120.tsp\n",
      "eil76.tsp\n",
      "pr76.tsp\n",
      "lin105.tsp\n",
      "pr107.tsp\n",
      "bier127.tsp\n",
      "ulysses16.tsp\n",
      "eil51.tsp\n",
      "brazil58.tsp\n",
      "burma14.tsp\n",
      "gr96.tsp\n",
      "rd100.tsp\n",
      "bayg29.tsp\n",
      "pr136.tsp\n",
      "rat99.tsp\n",
      "gr48.tsp\n",
      "st70.tsp\n",
      "hk48.tsp\n",
      "kroA100.tsp\n",
      "gr17.tsp\n",
      "ch130.tsp\n",
      "kroD100.tsp\n",
      "pr124.tsp\n",
      "gr21.tsp\n",
      "gr24.tsp\n",
      "ulysses22.tsp\n",
      "att48.tsp\n",
      "eil101.tsp\n",
      "dantzig42.tsp\n",
      "berlin52.tsp\n",
      "fri26.tsp\n",
      "swiss42.tsp\n",
      "kroB100.tsp\n",
      "kroC100.tsp\n",
      "bays29.tsp\n",
      "pr144.tsp\n",
      "kroE100.tsp\n",
      "gr137.tsp\n",
      "gr120.tsp\n"
     ]
    }
   ],
   "source": [
    "path1=\"*.tsp\"\n",
    "files1=glob.glob(path1)\n",
    "\n",
    "for name in files1: #Recover genres for each tsp file\n",
    "    outfile=name+\".npy\"\n",
    "    problem=tsplib95.load_problem(name)\n",
    "    n=problem.dimension\n",
    "    if n<150:\n",
    "        print(name)\n",
    "        try:\n",
    "            M=np.zeros((n,n))\n",
    "            for i in range(1,n+1):\n",
    "                for j in range(1,n+1):\n",
    "                    M[i-1,j-1]=problem.wfunc(i,j)\n",
    "            np.save(outfile,M)\n",
    "        except Exception:\n",
    "            pass\n",
    "        \n",
    "for name in files1: #Recover genres for each tsp file\n",
    "    outfile=name+\".coord.npy\"\n",
    "    problem=tsplib95.load_problem(name)\n",
    "    n=problem.dimension\n",
    "    if n<150:\n",
    "        print(name)\n",
    "        try:\n",
    "            coord=np.zeros((0,2))\n",
    "            for i in range(1,n+1):\n",
    "                point=np.reshape(np.array(problem.get_display(i)),(1,2))\n",
    "                coord=np.concatenate((coord,point),axis=0)\n",
    "            np.save(outfile,coord)\n",
    "        except Exception:\n",
    "            pass"
   ]
  },
  {
   "cell_type": "code",
   "execution_count": 64,
   "metadata": {},
   "outputs": [],
   "source": [
    "path2=\"*.opt.tour\"\n",
    "files2=glob.glob(path2)\n",
    "for name in files2: #Recover genres for each opt.tour\n",
    "    outfile=name+\".npy\"\n",
    "    solution = tsplib95.load_solution(name)\n",
    "    paths=solution.tours\n",
    "    np.save(outfile,paths)"
   ]
  },
  {
   "cell_type": "code",
   "execution_count": 35,
   "metadata": {},
   "outputs": [
    {
     "data": {
      "text/plain": [
       "('att48.opt', '.tour')"
      ]
     },
     "execution_count": 35,
     "metadata": {},
     "output_type": "execute_result"
    }
   ],
   "source": [
    "os.path.splitext('att48.opt.tour')"
   ]
  }
 ],
 "metadata": {
  "kernelspec": {
   "display_name": "Python 3",
   "language": "python",
   "name": "python3"
  },
  "language_info": {
   "codemirror_mode": {
    "name": "ipython",
    "version": 3
   },
   "file_extension": ".py",
   "mimetype": "text/x-python",
   "name": "python",
   "nbconvert_exporter": "python",
   "pygments_lexer": "ipython3",
   "version": "3.6.8"
  }
 },
 "nbformat": 4,
 "nbformat_minor": 2
}
